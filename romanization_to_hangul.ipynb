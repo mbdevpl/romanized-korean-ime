{
 "cells": [
  {
   "cell_type": "code",
   "execution_count": 1,
   "metadata": {},
   "outputs": [],
   "source": [
    "import itertools\n",
    "import logging\n",
    "\n",
    "import hangul_romanize\n",
    "import hangul_romanize.rule\n",
    "import jamo\n",
    "import kroman\n",
    "import networkx\n",
    "import pandas as pd\n",
    "\n",
    "from deromanize_hangul import to_jamo_groups, jamo_to_hangul, to_hangul"
   ]
  },
  {
   "cell_type": "code",
   "execution_count": 2,
   "metadata": {},
   "outputs": [],
   "source": [
    "logging.basicConfig(level=logging.DEBUG)\n",
    "\n",
    "_LOG = logging.getLogger(__name__)"
   ]
  },
  {
   "cell_type": "code",
   "execution_count": 4,
   "metadata": {},
   "outputs": [
    {
     "data": {
      "text/plain": [
       "(set(), {'ㅇ'})"
      ]
     },
     "execution_count": 4,
     "metadata": {},
     "output_type": "execute_result"
    }
   ],
   "source": [
    "SINGLE_HEAD_JAMOS - SINGLE_TAIL_JAMOS, SINGLE_TAIL_JAMOS - SINGLE_HEAD_JAMOS"
   ]
  },
  {
   "cell_type": "code",
   "execution_count": 5,
   "metadata": {},
   "outputs": [],
   "source": [
    "# VOWELS"
   ]
  },
  {
   "cell_type": "code",
   "execution_count": 6,
   "metadata": {},
   "outputs": [
    {
     "data": {
      "text/html": [
       "<div>\n",
       "<style scoped>\n",
       "    .dataframe tbody tr th:only-of-type {\n",
       "        vertical-align: middle;\n",
       "    }\n",
       "\n",
       "    .dataframe tbody tr th {\n",
       "        vertical-align: top;\n",
       "    }\n",
       "\n",
       "    .dataframe thead th {\n",
       "        text-align: right;\n",
       "    }\n",
       "</style>\n",
       "<table border=\"1\" class=\"dataframe\">\n",
       "  <thead>\n",
       "    <tr style=\"text-align: right;\">\n",
       "      <th></th>\n",
       "      <th>a</th>\n",
       "      <th>i</th>\n",
       "      <th>u</th>\n",
       "      <th>e</th>\n",
       "      <th>o</th>\n",
       "      <th>eo</th>\n",
       "      <th>eu</th>\n",
       "      <th>ae</th>\n",
       "      <th>oe</th>\n",
       "      <th>ui</th>\n",
       "    </tr>\n",
       "  </thead>\n",
       "  <tbody>\n",
       "    <tr>\n",
       "      <th></th>\n",
       "      <td>ㅏ</td>\n",
       "      <td>ㅣ</td>\n",
       "      <td>ㅜ</td>\n",
       "      <td>ㅔ</td>\n",
       "      <td>ㅗ</td>\n",
       "      <td>ㅓ</td>\n",
       "      <td>ㅡ</td>\n",
       "      <td>ㅐ</td>\n",
       "      <td>ㅚ</td>\n",
       "      <td>ㅢ</td>\n",
       "    </tr>\n",
       "    <tr>\n",
       "      <th>y</th>\n",
       "      <td>ㅑ</td>\n",
       "      <td>❌</td>\n",
       "      <td>ㅠ</td>\n",
       "      <td>ㅖ</td>\n",
       "      <td>ㅛ</td>\n",
       "      <td>ㅕ</td>\n",
       "      <td>❌</td>\n",
       "      <td>ㅒ</td>\n",
       "      <td>❌</td>\n",
       "      <td>❌</td>\n",
       "    </tr>\n",
       "    <tr>\n",
       "      <th>w</th>\n",
       "      <td>ㅘ</td>\n",
       "      <td>ㅟ</td>\n",
       "      <td>❌</td>\n",
       "      <td>ㅞ</td>\n",
       "      <td>ㅝ</td>\n",
       "      <td>❌</td>\n",
       "      <td>❌</td>\n",
       "      <td>ㅙ</td>\n",
       "      <td>❌</td>\n",
       "      <td>❌</td>\n",
       "    </tr>\n",
       "  </tbody>\n",
       "</table>\n",
       "</div>"
      ],
      "text/plain": [
       "   a  i  u  e  o eo eu ae oe ui\n",
       "   ㅏ  ㅣ  ㅜ  ㅔ  ㅗ  ㅓ  ㅡ  ㅐ  ㅚ  ㅢ\n",
       "y  ㅑ  ❌  ㅠ  ㅖ  ㅛ  ㅕ  ❌  ㅒ  ❌  ❌\n",
       "w  ㅘ  ㅟ  ❌  ㅞ  ㅝ  ❌  ❌  ㅙ  ❌  ❌"
      ]
     },
     "execution_count": 6,
     "metadata": {},
     "output_type": "execute_result"
    }
   ],
   "source": [
    "pd.DataFrame(data=[[ELEMENTS.get(prefix + base, '❌') for base in VOWEL_BASES]\n",
    "                   for prefix in VOWEL_PREFIXES],\n",
    "             index=VOWEL_PREFIXES, columns=VOWEL_BASES)"
   ]
  },
  {
   "cell_type": "code",
   "execution_count": 7,
   "metadata": {},
   "outputs": [
    {
     "data": {
      "text/html": [
       "<div>\n",
       "<style scoped>\n",
       "    .dataframe tbody tr th:only-of-type {\n",
       "        vertical-align: middle;\n",
       "    }\n",
       "\n",
       "    .dataframe tbody tr th {\n",
       "        vertical-align: top;\n",
       "    }\n",
       "\n",
       "    .dataframe thead th {\n",
       "        text-align: right;\n",
       "    }\n",
       "</style>\n",
       "<table border=\"1\" class=\"dataframe\">\n",
       "  <thead>\n",
       "    <tr style=\"text-align: right;\">\n",
       "      <th></th>\n",
       "      <th>g</th>\n",
       "      <th>d</th>\n",
       "      <th>s</th>\n",
       "      <th>j</th>\n",
       "      <th>b</th>\n",
       "    </tr>\n",
       "  </thead>\n",
       "  <tbody>\n",
       "    <tr>\n",
       "      <th>1</th>\n",
       "      <td>ㄱ</td>\n",
       "      <td>ㄷ</td>\n",
       "      <td>ㅅ</td>\n",
       "      <td>ㅈ</td>\n",
       "      <td>ㅂ</td>\n",
       "    </tr>\n",
       "    <tr>\n",
       "      <th>2</th>\n",
       "      <td>ㄲ</td>\n",
       "      <td>ㄸ</td>\n",
       "      <td>ㅆ</td>\n",
       "      <td>ㅉ</td>\n",
       "      <td>ㅃ</td>\n",
       "    </tr>\n",
       "  </tbody>\n",
       "</table>\n",
       "</div>"
      ],
      "text/plain": [
       "   g  d  s  j  b\n",
       "1  ㄱ  ㄷ  ㅅ  ㅈ  ㅂ\n",
       "2  ㄲ  ㄸ  ㅆ  ㅉ  ㅃ"
      ]
     },
     "execution_count": 7,
     "metadata": {},
     "output_type": "execute_result"
    }
   ],
   "source": [
    "pd.DataFrame(data=[[ELEMENTS.get(repetitions * base, '❌') for base in DOUBLED_CONSONANTS]\n",
    "                   for repetitions in (1, 2)],\n",
    "             index=(1, 2), columns=DOUBLED_CONSONANTS)"
   ]
  },
  {
   "cell_type": "code",
   "execution_count": 8,
   "metadata": {},
   "outputs": [
    {
     "data": {
      "text/html": [
       "<div>\n",
       "<style scoped>\n",
       "    .dataframe tbody tr th:only-of-type {\n",
       "        vertical-align: middle;\n",
       "    }\n",
       "\n",
       "    .dataframe tbody tr th {\n",
       "        vertical-align: top;\n",
       "    }\n",
       "\n",
       "    .dataframe thead th {\n",
       "        text-align: right;\n",
       "    }\n",
       "</style>\n",
       "<table border=\"1\" class=\"dataframe\">\n",
       "  <thead>\n",
       "    <tr style=\"text-align: right;\">\n",
       "      <th></th>\n",
       "      <th>k</th>\n",
       "      <th>t</th>\n",
       "      <th>ch</th>\n",
       "      <th>h</th>\n",
       "      <th>p</th>\n",
       "      <th>m</th>\n",
       "      <th>ng</th>\n",
       "      <th>r</th>\n",
       "      <th>n</th>\n",
       "    </tr>\n",
       "  </thead>\n",
       "  <tbody>\n",
       "    <tr>\n",
       "      <th></th>\n",
       "      <td>ㅋ</td>\n",
       "      <td>ㅌ</td>\n",
       "      <td>ㅊ</td>\n",
       "      <td>ㅎ</td>\n",
       "      <td>ㅍ</td>\n",
       "      <td>ㅁ</td>\n",
       "      <td>ㅇ</td>\n",
       "      <td>ㄹ</td>\n",
       "      <td>ㄴ</td>\n",
       "    </tr>\n",
       "  </tbody>\n",
       "</table>\n",
       "</div>"
      ],
      "text/plain": [
       "  k  t ch  h  p  m ng  r  n\n",
       "  ㅋ  ㅌ  ㅊ  ㅎ  ㅍ  ㅁ  ㅇ  ㄹ  ㄴ"
      ]
     },
     "execution_count": 8,
     "metadata": {},
     "output_type": "execute_result"
    }
   ],
   "source": [
    "pd.DataFrame(data=[[ELEMENTS.get(base, '❌') for base in REMAINING_CONSONANTS]\n",
    "                   for _ in ('',)],\n",
    "             index=('',), columns=REMAINING_CONSONANTS)"
   ]
  },
  {
   "cell_type": "code",
   "execution_count": 14,
   "metadata": {},
   "outputs": [],
   "source": [
    "_LOG.setLevel(logging.DEBUG)"
   ]
  },
  {
   "cell_type": "code",
   "execution_count": 20,
   "metadata": {},
   "outputs": [],
   "source": [
    "_LOG.setLevel(logging.INFO)"
   ]
  },
  {
   "cell_type": "code",
   "execution_count": 11,
   "metadata": {},
   "outputs": [],
   "source": [
    "examples = [\n",
    "    # 'san-sung', 'sansung',\n",
    "    # 'gat-i', 'gati',\n",
    "    # 'cha',\n",
    "    # 'ne, joha-yo.',\n",
    "    'han-gug-eo', 'hangugeo',\n",
    "    'ye-bbeu-da', 'ye-bbeuda',\n",
    "    'sa-rang', 'sarang',\n",
    "    'sa-rang-ha-da', 'saranghada',\n",
    "    'ji-geum', 'jigeum',\n",
    "    'mu-seun yeong-hwa-reur bur-gga-yo?', 'museun yeonghwareur burgga-yo?',\n",
    "    'bo-da', 'boda']"
   ]
  },
  {
   "cell_type": "code",
   "execution_count": 17,
   "metadata": {},
   "outputs": [
    {
     "name": "stderr",
     "output_type": "stream",
     "text": [
      "DEBUG:__main__:[] \"\" \"han-gug-eo\"\n",
      "DEBUG:__main__:[] \"ㅎ\" \"an-gug-eo\"\n",
      "DEBUG:__main__:[] \"ㅎㅏ\" \"n-gug-eo\"\n",
      "DEBUG:__main__:[] \"ㅎㅏㄴ\" \"-gug-eo\"\n",
      "DEBUG:__main__:[('ㅎㅏㄴ', 0, 4)] \"\" \"gug-eo\"\n",
      "DEBUG:__main__:[('ㅎㅏㄴ', 0, 4)] \"ㄱ\" \"ug-eo\"\n",
      "DEBUG:__main__:[('ㅎㅏㄴ', 0, 4)] \"ㄱㅜ\" \"g-eo\"\n",
      "DEBUG:__main__:[('ㅎㅏㄴ', 0, 4)] \"ㄱㅜㄱ\" \"-eo\"\n",
      "DEBUG:__main__:[('ㅎㅏㄴ', 0, 4), ('ㄱㅜㄱ', 4, 8)] \"\" \"eo\"\n",
      "DEBUG:__main__:[('ㅎㅏㄴ', 0, 4), ('ㄱㅜㄱ', 4, 8)] \"ㅓ\" \"\"\n",
      "DEBUG:__main__:[('ㅎㅏㄴ', 0, 4), ('ㄱㅜㄱ', 4, 8), ('ㅓ', 8, 11)] \"\" \"\"\n",
      "DEBUG:__main__:\"\" \"ㅎㅏㄴ\"\n",
      "DEBUG:__main__:\"한\" \"\"\n",
      "DEBUG:__main__:\"\" \"ㄱㅜㄱ\"\n",
      "DEBUG:__main__:\"국\" \"\"\n",
      "DEBUG:__main__:\"\" \"ㅓ\"\n",
      "DEBUG:__main__:\"\" \"ㅇㅓ\"\n",
      "DEBUG:__main__:\"어\" \"\"\n",
      "DEBUG:__main__:[] \"\" \"hangugeo\"\n",
      "DEBUG:__main__:[] \"ㅎ\" \"angugeo\"\n",
      "DEBUG:__main__:[] \"ㅎㅏ\" \"ngugeo\"\n",
      "DEBUG:__main__:[] \"ㅎㅏㅇ\" \"ugeo\"\n",
      "DEBUG:__main__:[] \"ㅎㅏㅇㅜ\" \"geo\"\n",
      "DEBUG:__main__:[] \"ㅎㅏㅇㅜㄱ\" \"eo\"\n",
      "DEBUG:__main__:[] \"ㅎㅏㅇㅜㄱㅓ\" \"\"\n",
      "DEBUG:__main__:[('ㅎㅏㅇㅜㄱㅓ', 0, 9)] \"\" \"\"\n",
      "DEBUG:__main__:\"\" \"ㅎㅏㅇㅜㄱㅓ\"\n",
      "DEBUG:__main__:\"항\" \"ㅜㄱㅓ\"\n",
      "DEBUG:__main__:\"항\" \"ㅇㅜㄱㅓ\"\n",
      "DEBUG:__main__:\"항욱\" \"ㅓ\"\n",
      "DEBUG:__main__:\"항욱\" \"ㅇㅓ\"\n",
      "DEBUG:__main__:\"항욱어\" \"\"\n",
      "DEBUG:__main__:[] \"\" \"ye-bbeu-da\"\n",
      "DEBUG:__main__:[] \"ㅖ\" \"-bbeu-da\"\n",
      "DEBUG:__main__:[('ㅖ', 0, 3)] \"\" \"bbeu-da\"\n",
      "DEBUG:__main__:[('ㅖ', 0, 3)] \"ㅃ\" \"eu-da\"\n",
      "DEBUG:__main__:[('ㅖ', 0, 3)] \"ㅃㅡ\" \"-da\"\n",
      "DEBUG:__main__:[('ㅖ', 0, 3), ('ㅃㅡ', 3, 8)] \"\" \"da\"\n",
      "DEBUG:__main__:[('ㅖ', 0, 3), ('ㅃㅡ', 3, 8)] \"ㄷ\" \"a\"\n",
      "DEBUG:__main__:[('ㅖ', 0, 3), ('ㅃㅡ', 3, 8)] \"ㄷㅏ\" \"\"\n",
      "DEBUG:__main__:[('ㅖ', 0, 3), ('ㅃㅡ', 3, 8), ('ㄷㅏ', 8, 12)] \"\" \"\"\n",
      "DEBUG:__main__:\"\" \"ㅖ\"\n",
      "DEBUG:__main__:\"\" \"ㅇㅖ\"\n",
      "DEBUG:__main__:\"예\" \"\"\n",
      "DEBUG:__main__:\"\" \"ㅃㅡ\"\n",
      "DEBUG:__main__:\"쁘\" \"\"\n",
      "DEBUG:__main__:\"\" \"ㄷㅏ\"\n",
      "DEBUG:__main__:\"다\" \"\"\n",
      "DEBUG:__main__:[] \"\" \"ye-bbeuda\"\n",
      "DEBUG:__main__:[] \"ㅖ\" \"-bbeuda\"\n",
      "DEBUG:__main__:[('ㅖ', 0, 3)] \"\" \"bbeuda\"\n",
      "DEBUG:__main__:[('ㅖ', 0, 3)] \"ㅃ\" \"euda\"\n",
      "DEBUG:__main__:[('ㅖ', 0, 3)] \"ㅃㅡ\" \"da\"\n",
      "DEBUG:__main__:[('ㅖ', 0, 3)] \"ㅃㅡㄷ\" \"a\"\n",
      "DEBUG:__main__:[('ㅖ', 0, 3)] \"ㅃㅡㄷㅏ\" \"\"\n",
      "DEBUG:__main__:[('ㅖ', 0, 3), ('ㅃㅡㄷㅏ', 3, 11)] \"\" \"\"\n",
      "DEBUG:__main__:\"\" \"ㅖ\"\n",
      "DEBUG:__main__:\"\" \"ㅇㅖ\"\n",
      "DEBUG:__main__:\"예\" \"\"\n",
      "DEBUG:__main__:\"\" \"ㅃㅡㄷㅏ\"\n",
      "DEBUG:__main__:\"쁟\" \"ㅏ\"\n",
      "DEBUG:__main__:\"쁟\" \"ㅇㅏ\"\n",
      "DEBUG:__main__:\"쁟아\" \"\"\n",
      "DEBUG:__main__:[] \"\" \"sa-rang\"\n",
      "DEBUG:__main__:[] \"ㅅ\" \"a-rang\"\n",
      "DEBUG:__main__:[] \"ㅅㅏ\" \"-rang\"\n",
      "DEBUG:__main__:[('ㅅㅏ', 0, 3)] \"\" \"rang\"\n",
      "DEBUG:__main__:[('ㅅㅏ', 0, 3)] \"ㄹ\" \"ang\"\n",
      "DEBUG:__main__:[('ㅅㅏ', 0, 3)] \"ㄹㅏ\" \"ng\"\n",
      "DEBUG:__main__:[('ㅅㅏ', 0, 3)] \"ㄹㅏㅇ\" \"\"\n",
      "DEBUG:__main__:[('ㅅㅏ', 0, 3), ('ㄹㅏㅇ', 3, 8)] \"\" \"\"\n",
      "DEBUG:__main__:\"\" \"ㅅㅏ\"\n",
      "DEBUG:__main__:\"사\" \"\"\n",
      "DEBUG:__main__:\"\" \"ㄹㅏㅇ\"\n",
      "DEBUG:__main__:\"랑\" \"\"\n",
      "DEBUG:__main__:[] \"\" \"sarang\"\n",
      "DEBUG:__main__:[] \"ㅅ\" \"arang\"\n",
      "DEBUG:__main__:[] \"ㅅㅏ\" \"rang\"\n",
      "DEBUG:__main__:[] \"ㅅㅏㄹ\" \"ang\"\n",
      "DEBUG:__main__:[] \"ㅅㅏㄹㅏ\" \"ng\"\n",
      "DEBUG:__main__:[] \"ㅅㅏㄹㅏㅇ\" \"\"\n",
      "DEBUG:__main__:[('ㅅㅏㄹㅏㅇ', 0, 7)] \"\" \"\"\n",
      "DEBUG:__main__:\"\" \"ㅅㅏㄹㅏㅇ\"\n",
      "DEBUG:__main__:\"살\" \"ㅏㅇ\"\n",
      "DEBUG:__main__:\"살\" \"ㅇㅏㅇ\"\n",
      "DEBUG:__main__:\"살앙\" \"\"\n",
      "DEBUG:__main__:[] \"\" \"sa-rang-ha-da\"\n",
      "DEBUG:__main__:[] \"ㅅ\" \"a-rang-ha-da\"\n",
      "DEBUG:__main__:[] \"ㅅㅏ\" \"-rang-ha-da\"\n",
      "DEBUG:__main__:[('ㅅㅏ', 0, 3)] \"\" \"rang-ha-da\"\n",
      "DEBUG:__main__:[('ㅅㅏ', 0, 3)] \"ㄹ\" \"ang-ha-da\"\n",
      "DEBUG:__main__:[('ㅅㅏ', 0, 3)] \"ㄹㅏ\" \"ng-ha-da\"\n",
      "DEBUG:__main__:[('ㅅㅏ', 0, 3)] \"ㄹㅏㅇ\" \"-ha-da\"\n",
      "DEBUG:__main__:[('ㅅㅏ', 0, 3), ('ㄹㅏㅇ', 3, 8)] \"\" \"ha-da\"\n",
      "DEBUG:__main__:[('ㅅㅏ', 0, 3), ('ㄹㅏㅇ', 3, 8)] \"ㅎ\" \"a-da\"\n",
      "DEBUG:__main__:[('ㅅㅏ', 0, 3), ('ㄹㅏㅇ', 3, 8)] \"ㅎㅏ\" \"-da\"\n",
      "DEBUG:__main__:[('ㅅㅏ', 0, 3), ('ㄹㅏㅇ', 3, 8), ('ㅎㅏ', 8, 11)] \"\" \"da\"\n",
      "DEBUG:__main__:[('ㅅㅏ', 0, 3), ('ㄹㅏㅇ', 3, 8), ('ㅎㅏ', 8, 11)] \"ㄷ\" \"a\"\n",
      "DEBUG:__main__:[('ㅅㅏ', 0, 3), ('ㄹㅏㅇ', 3, 8), ('ㅎㅏ', 8, 11)] \"ㄷㅏ\" \"\"\n",
      "DEBUG:__main__:[('ㅅㅏ', 0, 3), ('ㄹㅏㅇ', 3, 8), ('ㅎㅏ', 8, 11), ('ㄷㅏ', 11, 15)] \"\" \"\"\n",
      "DEBUG:__main__:\"\" \"ㅅㅏ\"\n",
      "DEBUG:__main__:\"사\" \"\"\n",
      "DEBUG:__main__:\"\" \"ㄹㅏㅇ\"\n",
      "DEBUG:__main__:\"랑\" \"\"\n"
     ]
    },
    {
     "name": "stdout",
     "output_type": "stream",
     "text": [
      "한 0 4\n",
      "국 4 8\n",
      "어 8 11\n",
      "항욱어 0 9\n",
      "예 0 3\n",
      "쁘 3 8\n",
      "다 8 12\n",
      "예 0 3\n",
      "쁟아 3 11\n",
      "사 0 3\n",
      "랑 3 8\n",
      "살앙 0 7\n",
      "사 0 3\n"
     ]
    },
    {
     "name": "stderr",
     "output_type": "stream",
     "text": [
      "DEBUG:__main__:\"\" \"ㅎㅏ\"\n",
      "DEBUG:__main__:\"하\" \"\"\n",
      "DEBUG:__main__:\"\" \"ㄷㅏ\"\n",
      "DEBUG:__main__:\"다\" \"\"\n",
      "DEBUG:__main__:[] \"\" \"saranghada\"\n",
      "DEBUG:__main__:[] \"ㅅ\" \"aranghada\"\n",
      "DEBUG:__main__:[] \"ㅅㅏ\" \"ranghada\"\n",
      "DEBUG:__main__:[] \"ㅅㅏㄹ\" \"anghada\"\n",
      "DEBUG:__main__:[] \"ㅅㅏㄹㅏ\" \"nghada\"\n",
      "DEBUG:__main__:[] \"ㅅㅏㄹㅏㅇ\" \"hada\"\n",
      "DEBUG:__main__:[] \"ㅅㅏㄹㅏㅇㅎ\" \"ada\"\n",
      "DEBUG:__main__:[] \"ㅅㅏㄹㅏㅇㅎㅏ\" \"da\"\n",
      "DEBUG:__main__:[] \"ㅅㅏㄹㅏㅇㅎㅏㄷ\" \"a\"\n",
      "DEBUG:__main__:[] \"ㅅㅏㄹㅏㅇㅎㅏㄷㅏ\" \"\"\n",
      "DEBUG:__main__:[('ㅅㅏㄹㅏㅇㅎㅏㄷㅏ', 0, 12)] \"\" \"\"\n",
      "DEBUG:__main__:\"\" \"ㅅㅏㄹㅏㅇㅎㅏㄷㅏ\"\n",
      "DEBUG:__main__:\"살\" \"ㅏㅇㅎㅏㄷㅏ\"\n",
      "DEBUG:__main__:\"살\" \"ㅇㅏㅇㅎㅏㄷㅏ\"\n",
      "DEBUG:__main__:\"살앙\" \"ㅎㅏㄷㅏ\"\n",
      "DEBUG:__main__:\"살앙핟\" \"ㅏ\"\n",
      "DEBUG:__main__:\"살앙핟\" \"ㅇㅏ\"\n",
      "DEBUG:__main__:\"살앙핟아\" \"\"\n",
      "DEBUG:__main__:[] \"\" \"ji-geum\"\n",
      "DEBUG:__main__:[] \"ㅈ\" \"i-geum\"\n",
      "DEBUG:__main__:[] \"ㅈㅣ\" \"-geum\"\n",
      "DEBUG:__main__:[('ㅈㅣ', 0, 3)] \"\" \"geum\"\n",
      "DEBUG:__main__:[('ㅈㅣ', 0, 3)] \"ㄱ\" \"eum\"\n",
      "DEBUG:__main__:[('ㅈㅣ', 0, 3)] \"ㄱㅡ\" \"m\"\n",
      "DEBUG:__main__:[('ㅈㅣ', 0, 3)] \"ㄱㅡㅁ\" \"\"\n",
      "DEBUG:__main__:[('ㅈㅣ', 0, 3), ('ㄱㅡㅁ', 3, 9)] \"\" \"\"\n",
      "DEBUG:__main__:\"\" \"ㅈㅣ\"\n",
      "DEBUG:__main__:\"지\" \"\"\n",
      "DEBUG:__main__:\"\" \"ㄱㅡㅁ\"\n",
      "DEBUG:__main__:\"금\" \"\"\n",
      "DEBUG:__main__:[] \"\" \"jigeum\"\n",
      "DEBUG:__main__:[] \"ㅈ\" \"igeum\"\n",
      "DEBUG:__main__:[] \"ㅈㅣ\" \"geum\"\n",
      "DEBUG:__main__:[] \"ㅈㅣㄱ\" \"eum\"\n",
      "DEBUG:__main__:[] \"ㅈㅣㄱㅡ\" \"m\"\n",
      "DEBUG:__main__:[] \"ㅈㅣㄱㅡㅁ\" \"\"\n",
      "DEBUG:__main__:[('ㅈㅣㄱㅡㅁ', 0, 8)] \"\" \"\"\n",
      "DEBUG:__main__:\"\" \"ㅈㅣㄱㅡㅁ\"\n",
      "DEBUG:__main__:\"직\" \"ㅡㅁ\"\n",
      "DEBUG:__main__:\"직\" \"ㅇㅡㅁ\"\n",
      "DEBUG:__main__:\"직음\" \"\"\n",
      "DEBUG:__main__:[] \"\" \"mu-seun yeong-hwa-reur bur-gga-yo?\"\n",
      "DEBUG:__main__:[] \"ㅁ\" \"u-seun yeong-hwa-reur bur-gga-yo?\"\n",
      "DEBUG:__main__:[] \"ㅁㅜ\" \"-seun yeong-hwa-reur bur-gga-yo?\"\n",
      "DEBUG:__main__:[('ㅁㅜ', 0, 3)] \"\" \"seun yeong-hwa-reur bur-gga-yo?\"\n",
      "DEBUG:__main__:[('ㅁㅜ', 0, 3)] \"ㅅ\" \"eun yeong-hwa-reur bur-gga-yo?\"\n",
      "DEBUG:__main__:[('ㅁㅜ', 0, 3)] \"ㅅㅡ\" \"n yeong-hwa-reur bur-gga-yo?\"\n",
      "DEBUG:__main__:[('ㅁㅜ', 0, 3)] \"ㅅㅡㄴ\" \" yeong-hwa-reur bur-gga-yo?\"\n",
      "DEBUG:__main__:[('ㅁㅜ', 0, 3), ('ㅅㅡㄴ', 3, 7)] \"\" \"yeong-hwa-reur bur-gga-yo?\"\n",
      "DEBUG:__main__:[('ㅁㅜ', 0, 3), ('ㅅㅡㄴ', 3, 7)] \"ㅕ\" \"ng-hwa-reur bur-gga-yo?\"\n",
      "DEBUG:__main__:[('ㅁㅜ', 0, 3), ('ㅅㅡㄴ', 3, 7)] \"ㅕㅇ\" \"-hwa-reur bur-gga-yo?\"\n",
      "DEBUG:__main__:[('ㅁㅜ', 0, 3), ('ㅅㅡㄴ', 3, 7), ('ㅕㅇ', 7, 13)] \"\" \"hwa-reur bur-gga-yo?\"\n",
      "DEBUG:__main__:[('ㅁㅜ', 0, 3), ('ㅅㅡㄴ', 3, 7), ('ㅕㅇ', 7, 13)] \"ㅎ\" \"wa-reur bur-gga-yo?\"\n",
      "DEBUG:__main__:[('ㅁㅜ', 0, 3), ('ㅅㅡㄴ', 3, 7), ('ㅕㅇ', 7, 13)] \"ㅎㅘ\" \"-reur bur-gga-yo?\"\n",
      "DEBUG:__main__:[('ㅁㅜ', 0, 3), ('ㅅㅡㄴ', 3, 7), ('ㅕㅇ', 7, 13), ('ㅎㅘ', 13, 17)] \"\" \"reur bur-gga-yo?\"\n",
      "DEBUG:__main__:[('ㅁㅜ', 0, 3), ('ㅅㅡㄴ', 3, 7), ('ㅕㅇ', 7, 13), ('ㅎㅘ', 13, 17)] \"ㄹ\" \"eur bur-gga-yo?\"\n",
      "DEBUG:__main__:[('ㅁㅜ', 0, 3), ('ㅅㅡㄴ', 3, 7), ('ㅕㅇ', 7, 13), ('ㅎㅘ', 13, 17)] \"ㄹㅡ\" \"r bur-gga-yo?\"\n",
      "DEBUG:__main__:[('ㅁㅜ', 0, 3), ('ㅅㅡㄴ', 3, 7), ('ㅕㅇ', 7, 13), ('ㅎㅘ', 13, 17)] \"ㄹㅡㄹ\" \" bur-gga-yo?\"\n",
      "DEBUG:__main__:[('ㅁㅜ', 0, 3), ('ㅅㅡㄴ', 3, 7), ('ㅕㅇ', 7, 13), ('ㅎㅘ', 13, 17), ('ㄹㅡㄹ', 17, 21)] \"\" \"bur-gga-yo?\"\n",
      "DEBUG:__main__:[('ㅁㅜ', 0, 3), ('ㅅㅡㄴ', 3, 7), ('ㅕㅇ', 7, 13), ('ㅎㅘ', 13, 17), ('ㄹㅡㄹ', 17, 21)] \"ㅂ\" \"ur-gga-yo?\"\n",
      "DEBUG:__main__:[('ㅁㅜ', 0, 3), ('ㅅㅡㄴ', 3, 7), ('ㅕㅇ', 7, 13), ('ㅎㅘ', 13, 17), ('ㄹㅡㄹ', 17, 21)] \"ㅂㅜ\" \"r-gga-yo?\"\n",
      "DEBUG:__main__:[('ㅁㅜ', 0, 3), ('ㅅㅡㄴ', 3, 7), ('ㅕㅇ', 7, 13), ('ㅎㅘ', 13, 17), ('ㄹㅡㄹ', 17, 21)] \"ㅂㅜㄹ\" \"-gga-yo?\"\n",
      "DEBUG:__main__:[('ㅁㅜ', 0, 3), ('ㅅㅡㄴ', 3, 7), ('ㅕㅇ', 7, 13), ('ㅎㅘ', 13, 17), ('ㄹㅡㄹ', 17, 21), ('ㅂㅜㄹ', 21, 25)] \"\" \"gga-yo?\"\n",
      "DEBUG:__main__:[('ㅁㅜ', 0, 3), ('ㅅㅡㄴ', 3, 7), ('ㅕㅇ', 7, 13), ('ㅎㅘ', 13, 17), ('ㄹㅡㄹ', 17, 21), ('ㅂㅜㄹ', 21, 25)] \"ㄲ\" \"a-yo?\"\n",
      "DEBUG:__main__:[('ㅁㅜ', 0, 3), ('ㅅㅡㄴ', 3, 7), ('ㅕㅇ', 7, 13), ('ㅎㅘ', 13, 17), ('ㄹㅡㄹ', 17, 21), ('ㅂㅜㄹ', 21, 25)] \"ㄲㅏ\" \"-yo?\"\n",
      "DEBUG:__main__:[('ㅁㅜ', 0, 3), ('ㅅㅡㄴ', 3, 7), ('ㅕㅇ', 7, 13), ('ㅎㅘ', 13, 17), ('ㄹㅡㄹ', 17, 21), ('ㅂㅜㄹ', 21, 25), ('ㄲㅏ', 25, 29)] \"\" \"yo?\"\n",
      "DEBUG:__main__:[('ㅁㅜ', 0, 3), ('ㅅㅡㄴ', 3, 7), ('ㅕㅇ', 7, 13), ('ㅎㅘ', 13, 17), ('ㄹㅡㄹ', 17, 21), ('ㅂㅜㄹ', 21, 25), ('ㄲㅏ', 25, 29)] \"ㅛ\" \"?\"\n",
      "DEBUG:__main__:[('ㅁㅜ', 0, 3), ('ㅅㅡㄴ', 3, 7), ('ㅕㅇ', 7, 13), ('ㅎㅘ', 13, 17), ('ㄹㅡㄹ', 17, 21), ('ㅂㅜㄹ', 21, 25), ('ㄲㅏ', 25, 29), ('ㅛ', 29, 31)] \"\" \"\"\n",
      "DEBUG:__main__:\"\" \"ㅁㅜ\"\n",
      "DEBUG:__main__:\"무\" \"\"\n",
      "DEBUG:__main__:\"\" \"ㅅㅡㄴ\"\n",
      "DEBUG:__main__:\"슨\" \"\"\n",
      "DEBUG:__main__:\"\" \"ㅕㅇ\"\n",
      "DEBUG:__main__:\"\" \"ㅇㅕㅇ\"\n",
      "DEBUG:__main__:\"영\" \"\"\n",
      "DEBUG:__main__:\"\" \"ㅎㅘ\"\n",
      "DEBUG:__main__:\"화\" \"\"\n",
      "DEBUG:__main__:\"\" \"ㄹㅡㄹ\"\n",
      "DEBUG:__main__:\"를\" \"\"\n",
      "DEBUG:__main__:\"\" \"ㅂㅜㄹ\"\n",
      "DEBUG:__main__:\"불\" \"\"\n",
      "DEBUG:__main__:\"\" \"ㄲㅏ\"\n",
      "DEBUG:__main__:\"까\" \"\"\n",
      "DEBUG:__main__:\"\" \"ㅛ\"\n",
      "DEBUG:__main__:\"\" \"ㅇㅛ\"\n",
      "DEBUG:__main__:\"요\" \"\"\n",
      "DEBUG:__main__:[] \"\" \"museun yeonghwareur burgga-yo?\"\n",
      "DEBUG:__main__:[] \"ㅁ\" \"useun yeonghwareur burgga-yo?\"\n",
      "DEBUG:__main__:[] \"ㅁㅜ\" \"seun yeonghwareur burgga-yo?\"\n",
      "DEBUG:__main__:[] \"ㅁㅜㅅ\" \"eun yeonghwareur burgga-yo?\"\n",
      "DEBUG:__main__:[] \"ㅁㅜㅅㅡ\" \"n yeonghwareur burgga-yo?\"\n",
      "DEBUG:__main__:[] \"ㅁㅜㅅㅡㄴ\" \" yeonghwareur burgga-yo?\"\n",
      "DEBUG:__main__:[('ㅁㅜㅅㅡㄴ', 0, 6)] \"\" \"yeonghwareur burgga-yo?\"\n",
      "DEBUG:__main__:[('ㅁㅜㅅㅡㄴ', 0, 6)] \"ㅕ\" \"nghwareur burgga-yo?\"\n",
      "DEBUG:__main__:[('ㅁㅜㅅㅡㄴ', 0, 6)] \"ㅕㅇ\" \"hwareur burgga-yo?\"\n",
      "DEBUG:__main__:[('ㅁㅜㅅㅡㄴ', 0, 6)] \"ㅕㅇㅎ\" \"wareur burgga-yo?\"\n",
      "DEBUG:__main__:[('ㅁㅜㅅㅡㄴ', 0, 6)] \"ㅕㅇㅎㅘ\" \"reur burgga-yo?\"\n",
      "DEBUG:__main__:[('ㅁㅜㅅㅡㄴ', 0, 6)] \"ㅕㅇㅎㅘㄹ\" \"eur burgga-yo?\"\n",
      "DEBUG:__main__:[('ㅁㅜㅅㅡㄴ', 0, 6)] \"ㅕㅇㅎㅘㄹㅡ\" \"r burgga-yo?\"\n",
      "DEBUG:__main__:[('ㅁㅜㅅㅡㄴ', 0, 6)] \"ㅕㅇㅎㅘㄹㅡㄹ\" \" burgga-yo?\"\n",
      "DEBUG:__main__:[('ㅁㅜㅅㅡㄴ', 0, 6), ('ㅕㅇㅎㅘㄹㅡㄹ', 6, 18)] \"\" \"burgga-yo?\"\n",
      "DEBUG:__main__:[('ㅁㅜㅅㅡㄴ', 0, 6), ('ㅕㅇㅎㅘㄹㅡㄹ', 6, 18)] \"ㅂ\" \"urgga-yo?\"\n",
      "DEBUG:__main__:[('ㅁㅜㅅㅡㄴ', 0, 6), ('ㅕㅇㅎㅘㄹㅡㄹ', 6, 18)] \"ㅂㅜ\" \"rgga-yo?\"\n"
     ]
    },
    {
     "name": "stdout",
     "output_type": "stream",
     "text": [
      "랑 3 8\n",
      "하 8 11\n",
      "다 11 15\n",
      "살앙핟아 0 12\n",
      "지 0 3\n",
      "금 3 9\n",
      "직음 0 8\n",
      "무 0 3\n",
      "슨 3 7\n",
      "영 7 13\n",
      "화 13 17\n",
      "를 17 21\n",
      "불 21 25\n",
      "까 25 29\n",
      "요 29 31\n"
     ]
    },
    {
     "name": "stderr",
     "output_type": "stream",
     "text": [
      "DEBUG:__main__:[('ㅁㅜㅅㅡㄴ', 0, 6), ('ㅕㅇㅎㅘㄹㅡㄹ', 6, 18)] \"ㅂㅜㄹ\" \"gga-yo?\"\n",
      "DEBUG:__main__:[('ㅁㅜㅅㅡㄴ', 0, 6), ('ㅕㅇㅎㅘㄹㅡㄹ', 6, 18)] \"ㅂㅜㄹㄲ\" \"a-yo?\"\n",
      "DEBUG:__main__:[('ㅁㅜㅅㅡㄴ', 0, 6), ('ㅕㅇㅎㅘㄹㅡㄹ', 6, 18)] \"ㅂㅜㄹㄲㅏ\" \"-yo?\"\n",
      "DEBUG:__main__:[('ㅁㅜㅅㅡㄴ', 0, 6), ('ㅕㅇㅎㅘㄹㅡㄹ', 6, 18), ('ㅂㅜㄹㄲㅏ', 18, 25)] \"\" \"yo?\"\n",
      "DEBUG:__main__:[('ㅁㅜㅅㅡㄴ', 0, 6), ('ㅕㅇㅎㅘㄹㅡㄹ', 6, 18), ('ㅂㅜㄹㄲㅏ', 18, 25)] \"ㅛ\" \"?\"\n",
      "DEBUG:__main__:[('ㅁㅜㅅㅡㄴ', 0, 6), ('ㅕㅇㅎㅘㄹㅡㄹ', 6, 18), ('ㅂㅜㄹㄲㅏ', 18, 25), ('ㅛ', 25, 27)] \"\" \"\"\n",
      "DEBUG:__main__:\"\" \"ㅁㅜㅅㅡㄴ\"\n",
      "DEBUG:__main__:\"뭇\" \"ㅡㄴ\"\n",
      "DEBUG:__main__:\"뭇\" \"ㅇㅡㄴ\"\n",
      "DEBUG:__main__:\"뭇은\" \"\"\n",
      "DEBUG:__main__:\"\" \"ㅕㅇㅎㅘㄹㅡㄹ\"\n",
      "DEBUG:__main__:\"\" \"ㅇㅕㅇㅎㅘㄹㅡㄹ\"\n",
      "DEBUG:__main__:\"영\" \"ㅎㅘㄹㅡㄹ\"\n",
      "DEBUG:__main__:\"영활\" \"ㅡㄹ\"\n",
      "DEBUG:__main__:\"영활\" \"ㅇㅡㄹ\"\n",
      "DEBUG:__main__:\"영활을\" \"\"\n",
      "DEBUG:__main__:\"\" \"ㅂㅜㄹㄲㅏ\"\n",
      "DEBUG:__main__:\"불\" \"ㄲㅏ\"\n",
      "DEBUG:__main__:\"불까\" \"\"\n",
      "DEBUG:__main__:\"\" \"ㅛ\"\n",
      "DEBUG:__main__:\"\" \"ㅇㅛ\"\n",
      "DEBUG:__main__:\"요\" \"\"\n",
      "DEBUG:__main__:[] \"\" \"bo-da\"\n",
      "DEBUG:__main__:[] \"ㅂ\" \"o-da\"\n",
      "DEBUG:__main__:[] \"ㅂㅗ\" \"-da\"\n",
      "DEBUG:__main__:[('ㅂㅗ', 0, 3)] \"\" \"da\"\n",
      "DEBUG:__main__:[('ㅂㅗ', 0, 3)] \"ㄷ\" \"a\"\n",
      "DEBUG:__main__:[('ㅂㅗ', 0, 3)] \"ㄷㅏ\" \"\"\n",
      "DEBUG:__main__:[('ㅂㅗ', 0, 3), ('ㄷㅏ', 3, 7)] \"\" \"\"\n",
      "DEBUG:__main__:\"\" \"ㅂㅗ\"\n",
      "DEBUG:__main__:\"보\" \"\"\n",
      "DEBUG:__main__:\"\" \"ㄷㅏ\"\n",
      "DEBUG:__main__:\"다\" \"\"\n",
      "DEBUG:__main__:[] \"\" \"boda\"\n",
      "DEBUG:__main__:[] \"ㅂ\" \"oda\"\n",
      "DEBUG:__main__:[] \"ㅂㅗ\" \"da\"\n",
      "DEBUG:__main__:[] \"ㅂㅗㄷ\" \"a\"\n",
      "DEBUG:__main__:[] \"ㅂㅗㄷㅏ\" \"\"\n",
      "DEBUG:__main__:[('ㅂㅗㄷㅏ', 0, 6)] \"\" \"\"\n",
      "DEBUG:__main__:\"\" \"ㅂㅗㄷㅏ\"\n",
      "DEBUG:__main__:\"볻\" \"ㅏ\"\n",
      "DEBUG:__main__:\"볻\" \"ㅇㅏ\"\n",
      "DEBUG:__main__:\"볻아\" \"\"\n"
     ]
    },
    {
     "name": "stdout",
     "output_type": "stream",
     "text": [
      "뭇은 0 6\n",
      "영활을 6 18\n",
      "불까 18 25\n",
      "요 25 27\n",
      "보 0 3\n",
      "다 3 7\n",
      "볻아 0 6\n"
     ]
    }
   ],
   "source": [
    "for example in examples:\n",
    "    jamo_groups = to_jamo_groups(example)\n",
    "    for jamo_group, begin, end in jamo_groups:\n",
    "        print(jamo_to_hangul(jamo_group), begin, end)"
   ]
  },
  {
   "cell_type": "code",
   "execution_count": 18,
   "metadata": {},
   "outputs": [
    {
     "name": "stderr",
     "output_type": "stream",
     "text": [
      "DEBUG:__main__:[] \"\" \"han-gug-eo\"\n",
      "DEBUG:__main__:[] \"ㅎ\" \"an-gug-eo\"\n",
      "DEBUG:__main__:[] \"ㅎㅏ\" \"n-gug-eo\"\n",
      "DEBUG:__main__:[] \"ㅎㅏㄴ\" \"-gug-eo\"\n",
      "DEBUG:__main__:[('ㅎㅏㄴ', 0, 4)] \"\" \"gug-eo\"\n",
      "DEBUG:__main__:[('ㅎㅏㄴ', 0, 4)] \"ㄱ\" \"ug-eo\"\n",
      "DEBUG:__main__:[('ㅎㅏㄴ', 0, 4)] \"ㄱㅜ\" \"g-eo\"\n",
      "DEBUG:__main__:[('ㅎㅏㄴ', 0, 4)] \"ㄱㅜㄱ\" \"-eo\"\n",
      "DEBUG:__main__:[('ㅎㅏㄴ', 0, 4), ('ㄱㅜㄱ', 4, 8)] \"\" \"eo\"\n",
      "DEBUG:__main__:[('ㅎㅏㄴ', 0, 4), ('ㄱㅜㄱ', 4, 8)] \"ㅓ\" \"\"\n",
      "DEBUG:__main__:[('ㅎㅏㄴ', 0, 4), ('ㄱㅜㄱ', 4, 8), ('ㅓ', 8, 11)] \"\" \"\"\n",
      "DEBUG:__main__:\"han-gug-eo\" ㅓ 8:11\n",
      "DEBUG:__main__:\"\" \"ㅓ\"\n",
      "DEBUG:__main__:\"\" \"ㅇㅓ\"\n",
      "DEBUG:__main__:\"어\" \"\"\n",
      "DEBUG:__main__:\"han-gug-어\" ㄱㅜㄱ 4:8\n",
      "DEBUG:__main__:\"\" \"ㄱㅜㄱ\"\n",
      "DEBUG:__main__:\"국\" \"\"\n",
      "DEBUG:__main__:\"han-국어\" ㅎㅏㄴ 0:4\n",
      "DEBUG:__main__:\"\" \"ㅎㅏㄴ\"\n",
      "DEBUG:__main__:\"한\" \"\"\n",
      "DEBUG:__main__:\"한국어\"\n",
      "DEBUG:__main__:[] \"\" \"hangugeo\"\n",
      "DEBUG:__main__:[] \"ㅎ\" \"angugeo\"\n",
      "DEBUG:__main__:[] \"ㅎㅏ\" \"ngugeo\"\n",
      "DEBUG:__main__:[] \"ㅎㅏㅇ\" \"ugeo\"\n",
      "DEBUG:__main__:[] \"ㅎㅏㅇㅜ\" \"geo\"\n",
      "DEBUG:__main__:[] \"ㅎㅏㅇㅜㄱ\" \"eo\"\n",
      "DEBUG:__main__:[] \"ㅎㅏㅇㅜㄱㅓ\" \"\"\n",
      "DEBUG:__main__:[('ㅎㅏㅇㅜㄱㅓ', 0, 9)] \"\" \"\"\n",
      "DEBUG:__main__:\"hangugeo\" ㅎㅏㅇㅜㄱㅓ 0:9\n",
      "DEBUG:__main__:\"\" \"ㅎㅏㅇㅜㄱㅓ\"\n",
      "DEBUG:__main__:\"항\" \"ㅜㄱㅓ\"\n",
      "DEBUG:__main__:\"항\" \"ㅇㅜㄱㅓ\"\n",
      "DEBUG:__main__:\"항욱\" \"ㅓ\"\n",
      "DEBUG:__main__:\"항욱\" \"ㅇㅓ\"\n",
      "DEBUG:__main__:\"항욱어\" \"\"\n",
      "DEBUG:__main__:\"항욱어\"\n",
      "DEBUG:__main__:[] \"\" \"ye-bbeu-da\"\n",
      "DEBUG:__main__:[] \"ㅖ\" \"-bbeu-da\"\n",
      "DEBUG:__main__:[('ㅖ', 0, 3)] \"\" \"bbeu-da\"\n",
      "DEBUG:__main__:[('ㅖ', 0, 3)] \"ㅃ\" \"eu-da\"\n",
      "DEBUG:__main__:[('ㅖ', 0, 3)] \"ㅃㅡ\" \"-da\"\n",
      "DEBUG:__main__:[('ㅖ', 0, 3), ('ㅃㅡ', 3, 8)] \"\" \"da\"\n",
      "DEBUG:__main__:[('ㅖ', 0, 3), ('ㅃㅡ', 3, 8)] \"ㄷ\" \"a\"\n",
      "DEBUG:__main__:[('ㅖ', 0, 3), ('ㅃㅡ', 3, 8)] \"ㄷㅏ\" \"\"\n",
      "DEBUG:__main__:[('ㅖ', 0, 3), ('ㅃㅡ', 3, 8), ('ㄷㅏ', 8, 12)] \"\" \"\"\n",
      "DEBUG:__main__:\"ye-bbeu-da\" ㄷㅏ 8:12\n",
      "DEBUG:__main__:\"\" \"ㄷㅏ\"\n",
      "DEBUG:__main__:\"다\" \"\"\n",
      "DEBUG:__main__:\"ye-bbeu-다\" ㅃㅡ 3:8\n",
      "DEBUG:__main__:\"\" \"ㅃㅡ\"\n",
      "DEBUG:__main__:\"쁘\" \"\"\n",
      "DEBUG:__main__:\"ye-쁘다\" ㅖ 0:3\n",
      "DEBUG:__main__:\"\" \"ㅖ\"\n",
      "DEBUG:__main__:\"\" \"ㅇㅖ\"\n",
      "DEBUG:__main__:\"예\" \"\"\n",
      "DEBUG:__main__:\"예쁘다\"\n",
      "DEBUG:__main__:[] \"\" \"ye-bbeuda\"\n",
      "DEBUG:__main__:[] \"ㅖ\" \"-bbeuda\"\n",
      "DEBUG:__main__:[('ㅖ', 0, 3)] \"\" \"bbeuda\"\n",
      "DEBUG:__main__:[('ㅖ', 0, 3)] \"ㅃ\" \"euda\"\n",
      "DEBUG:__main__:[('ㅖ', 0, 3)] \"ㅃㅡ\" \"da\"\n",
      "DEBUG:__main__:[('ㅖ', 0, 3)] \"ㅃㅡㄷ\" \"a\"\n",
      "DEBUG:__main__:[('ㅖ', 0, 3)] \"ㅃㅡㄷㅏ\" \"\"\n",
      "DEBUG:__main__:[('ㅖ', 0, 3), ('ㅃㅡㄷㅏ', 3, 11)] \"\" \"\"\n",
      "DEBUG:__main__:\"ye-bbeuda\" ㅃㅡㄷㅏ 3:11\n",
      "DEBUG:__main__:\"\" \"ㅃㅡㄷㅏ\"\n",
      "DEBUG:__main__:\"쁟\" \"ㅏ\"\n",
      "DEBUG:__main__:\"쁟\" \"ㅇㅏ\"\n",
      "DEBUG:__main__:\"쁟아\" \"\"\n",
      "DEBUG:__main__:\"ye-쁟아\" ㅖ 0:3\n",
      "DEBUG:__main__:\"\" \"ㅖ\"\n",
      "DEBUG:__main__:\"\" \"ㅇㅖ\"\n",
      "DEBUG:__main__:\"예\" \"\"\n",
      "DEBUG:__main__:\"예쁟아\"\n",
      "DEBUG:__main__:[] \"\" \"sa-rang\"\n",
      "DEBUG:__main__:[] \"ㅅ\" \"a-rang\"\n",
      "DEBUG:__main__:[] \"ㅅㅏ\" \"-rang\"\n",
      "DEBUG:__main__:[('ㅅㅏ', 0, 3)] \"\" \"rang\"\n",
      "DEBUG:__main__:[('ㅅㅏ', 0, 3)] \"ㄹ\" \"ang\"\n",
      "DEBUG:__main__:[('ㅅㅏ', 0, 3)] \"ㄹㅏ\" \"ng\"\n",
      "DEBUG:__main__:[('ㅅㅏ', 0, 3)] \"ㄹㅏㅇ\" \"\"\n",
      "DEBUG:__main__:[('ㅅㅏ', 0, 3), ('ㄹㅏㅇ', 3, 8)] \"\" \"\"\n",
      "DEBUG:__main__:\"sa-rang\" ㄹㅏㅇ 3:8\n",
      "DEBUG:__main__:\"\" \"ㄹㅏㅇ\"\n",
      "DEBUG:__main__:\"랑\" \"\"\n",
      "DEBUG:__main__:\"sa-랑\" ㅅㅏ 0:3\n",
      "DEBUG:__main__:\"\" \"ㅅㅏ\"\n",
      "DEBUG:__main__:\"사\" \"\"\n",
      "DEBUG:__main__:\"사랑\"\n",
      "DEBUG:__main__:[] \"\" \"sarang\"\n",
      "DEBUG:__main__:[] \"ㅅ\" \"arang\"\n",
      "DEBUG:__main__:[] \"ㅅㅏ\" \"rang\"\n",
      "DEBUG:__main__:[] \"ㅅㅏㄹ\" \"ang\"\n",
      "DEBUG:__main__:[] \"ㅅㅏㄹㅏ\" \"ng\"\n",
      "DEBUG:__main__:[] \"ㅅㅏㄹㅏㅇ\" \"\"\n",
      "DEBUG:__main__:[('ㅅㅏㄹㅏㅇ', 0, 7)] \"\" \"\"\n",
      "DEBUG:__main__:\"sarang\" ㅅㅏㄹㅏㅇ 0:7\n",
      "DEBUG:__main__:\"\" \"ㅅㅏㄹㅏㅇ\"\n",
      "DEBUG:__main__:\"살\" \"ㅏㅇ\"\n",
      "DEBUG:__main__:\"살\" \"ㅇㅏㅇ\"\n",
      "DEBUG:__main__:\"살앙\" \"\"\n",
      "DEBUG:__main__:\"살앙\"\n",
      "DEBUG:__main__:[] \"\" \"sa-rang-ha-da\"\n",
      "DEBUG:__main__:[] \"ㅅ\" \"a-rang-ha-da\"\n",
      "DEBUG:__main__:[] \"ㅅㅏ\" \"-rang-ha-da\"\n",
      "DEBUG:__main__:[('ㅅㅏ', 0, 3)] \"\" \"rang-ha-da\"\n",
      "DEBUG:__main__:[('ㅅㅏ', 0, 3)] \"ㄹ\" \"ang-ha-da\"\n",
      "DEBUG:__main__:[('ㅅㅏ', 0, 3)] \"ㄹㅏ\" \"ng-ha-da\"\n",
      "DEBUG:__main__:[('ㅅㅏ', 0, 3)] \"ㄹㅏㅇ\" \"-ha-da\"\n",
      "DEBUG:__main__:[('ㅅㅏ', 0, 3), ('ㄹㅏㅇ', 3, 8)] \"\" \"ha-da\"\n",
      "DEBUG:__main__:[('ㅅㅏ', 0, 3), ('ㄹㅏㅇ', 3, 8)] \"ㅎ\" \"a-da\"\n",
      "DEBUG:__main__:[('ㅅㅏ', 0, 3), ('ㄹㅏㅇ', 3, 8)] \"ㅎㅏ\" \"-da\"\n",
      "DEBUG:__main__:[('ㅅㅏ', 0, 3), ('ㄹㅏㅇ', 3, 8), ('ㅎㅏ', 8, 11)] \"\" \"da\"\n",
      "DEBUG:__main__:[('ㅅㅏ', 0, 3), ('ㄹㅏㅇ', 3, 8), ('ㅎㅏ', 8, 11)] \"ㄷ\" \"a\"\n",
      "DEBUG:__main__:[('ㅅㅏ', 0, 3), ('ㄹㅏㅇ', 3, 8), ('ㅎㅏ', 8, 11)] \"ㄷㅏ\" \"\"\n",
      "DEBUG:__main__:[('ㅅㅏ', 0, 3), ('ㄹㅏㅇ', 3, 8), ('ㅎㅏ', 8, 11), ('ㄷㅏ', 11, 15)] \"\" \"\"\n",
      "DEBUG:__main__:\"sa-rang-ha-da\" ㄷㅏ 11:15\n",
      "DEBUG:__main__:\"\" \"ㄷㅏ\"\n",
      "DEBUG:__main__:\"다\" \"\"\n",
      "DEBUG:__main__:\"sa-rang-ha-다\" ㅎㅏ 8:11\n",
      "DEBUG:__main__:\"\" \"ㅎㅏ\"\n",
      "DEBUG:__main__:\"하\" \"\"\n",
      "DEBUG:__main__:\"sa-rang-하다\" ㄹㅏㅇ 3:8\n",
      "DEBUG:__main__:\"\" \"ㄹㅏㅇ\"\n",
      "DEBUG:__main__:\"랑\" \"\"\n",
      "DEBUG:__main__:\"sa-랑하다\" ㅅㅏ 0:3\n",
      "DEBUG:__main__:\"\" \"ㅅㅏ\"\n",
      "DEBUG:__main__:\"사\" \"\"\n",
      "DEBUG:__main__:\"사랑하다\"\n",
      "DEBUG:__main__:[] \"\" \"saranghada\"\n",
      "DEBUG:__main__:[] \"ㅅ\" \"aranghada\"\n",
      "DEBUG:__main__:[] \"ㅅㅏ\" \"ranghada\"\n",
      "DEBUG:__main__:[] \"ㅅㅏㄹ\" \"anghada\"\n",
      "DEBUG:__main__:[] \"ㅅㅏㄹㅏ\" \"nghada\"\n",
      "DEBUG:__main__:[] \"ㅅㅏㄹㅏㅇ\" \"hada\"\n",
      "DEBUG:__main__:[] \"ㅅㅏㄹㅏㅇㅎ\" \"ada\"\n",
      "DEBUG:__main__:[] \"ㅅㅏㄹㅏㅇㅎㅏ\" \"da\"\n",
      "DEBUG:__main__:[] \"ㅅㅏㄹㅏㅇㅎㅏㄷ\" \"a\"\n",
      "DEBUG:__main__:[] \"ㅅㅏㄹㅏㅇㅎㅏㄷㅏ\" \"\"\n",
      "DEBUG:__main__:[('ㅅㅏㄹㅏㅇㅎㅏㄷㅏ', 0, 12)] \"\" \"\"\n",
      "DEBUG:__main__:\"saranghada\" ㅅㅏㄹㅏㅇㅎㅏㄷㅏ 0:12\n",
      "DEBUG:__main__:\"\" \"ㅅㅏㄹㅏㅇㅎㅏㄷㅏ\"\n",
      "DEBUG:__main__:\"살\" \"ㅏㅇㅎㅏㄷㅏ\"\n",
      "DEBUG:__main__:\"살\" \"ㅇㅏㅇㅎㅏㄷㅏ\"\n",
      "DEBUG:__main__:\"살앙\" \"ㅎㅏㄷㅏ\"\n",
      "DEBUG:__main__:\"살앙핟\" \"ㅏ\"\n",
      "DEBUG:__main__:\"살앙핟\" \"ㅇㅏ\"\n",
      "DEBUG:__main__:\"살앙핟아\" \"\"\n",
      "DEBUG:__main__:\"살앙핟아\"\n",
      "DEBUG:__main__:[] \"\" \"ji-geum\"\n",
      "DEBUG:__main__:[] \"ㅈ\" \"i-geum\"\n",
      "DEBUG:__main__:[] \"ㅈㅣ\" \"-geum\"\n",
      "DEBUG:__main__:[('ㅈㅣ', 0, 3)] \"\" \"geum\"\n",
      "DEBUG:__main__:[('ㅈㅣ', 0, 3)] \"ㄱ\" \"eum\"\n",
      "DEBUG:__main__:[('ㅈㅣ', 0, 3)] \"ㄱㅡ\" \"m\"\n",
      "DEBUG:__main__:[('ㅈㅣ', 0, 3)] \"ㄱㅡㅁ\" \"\"\n",
      "DEBUG:__main__:[('ㅈㅣ', 0, 3), ('ㄱㅡㅁ', 3, 9)] \"\" \"\"\n",
      "DEBUG:__main__:\"ji-geum\" ㄱㅡㅁ 3:9\n",
      "DEBUG:__main__:\"\" \"ㄱㅡㅁ\"\n",
      "DEBUG:__main__:\"금\" \"\"\n",
      "DEBUG:__main__:\"ji-금\" ㅈㅣ 0:3\n",
      "DEBUG:__main__:\"\" \"ㅈㅣ\"\n",
      "DEBUG:__main__:\"지\" \"\"\n",
      "DEBUG:__main__:\"지금\"\n",
      "DEBUG:__main__:[] \"\" \"jigeum\"\n",
      "DEBUG:__main__:[] \"ㅈ\" \"igeum\"\n",
      "DEBUG:__main__:[] \"ㅈㅣ\" \"geum\"\n",
      "DEBUG:__main__:[] \"ㅈㅣㄱ\" \"eum\"\n",
      "DEBUG:__main__:[] \"ㅈㅣㄱㅡ\" \"m\"\n",
      "DEBUG:__main__:[] \"ㅈㅣㄱㅡㅁ\" \"\"\n",
      "DEBUG:__main__:[('ㅈㅣㄱㅡㅁ', 0, 8)] \"\" \"\"\n",
      "DEBUG:__main__:\"jigeum\" ㅈㅣㄱㅡㅁ 0:8\n",
      "DEBUG:__main__:\"\" \"ㅈㅣㄱㅡㅁ\"\n",
      "DEBUG:__main__:\"직\" \"ㅡㅁ\"\n",
      "DEBUG:__main__:\"직\" \"ㅇㅡㅁ\"\n",
      "DEBUG:__main__:\"직음\" \"\"\n",
      "DEBUG:__main__:\"직음\"\n",
      "DEBUG:__main__:[] \"\" \"mu-seun yeong-hwa-reur bur-gga-yo?\"\n",
      "DEBUG:__main__:[] \"ㅁ\" \"u-seun yeong-hwa-reur bur-gga-yo?\"\n",
      "DEBUG:__main__:[] \"ㅁㅜ\" \"-seun yeong-hwa-reur bur-gga-yo?\"\n",
      "DEBUG:__main__:[('ㅁㅜ', 0, 3)] \"\" \"seun yeong-hwa-reur bur-gga-yo?\"\n",
      "DEBUG:__main__:[('ㅁㅜ', 0, 3)] \"ㅅ\" \"eun yeong-hwa-reur bur-gga-yo?\"\n",
      "DEBUG:__main__:[('ㅁㅜ', 0, 3)] \"ㅅㅡ\" \"n yeong-hwa-reur bur-gga-yo?\"\n",
      "DEBUG:__main__:[('ㅁㅜ', 0, 3)] \"ㅅㅡㄴ\" \" yeong-hwa-reur bur-gga-yo?\"\n",
      "DEBUG:__main__:[('ㅁㅜ', 0, 3), ('ㅅㅡㄴ', 3, 7)] \"\" \"yeong-hwa-reur bur-gga-yo?\"\n",
      "DEBUG:__main__:[('ㅁㅜ', 0, 3), ('ㅅㅡㄴ', 3, 7)] \"ㅕ\" \"ng-hwa-reur bur-gga-yo?\"\n",
      "DEBUG:__main__:[('ㅁㅜ', 0, 3), ('ㅅㅡㄴ', 3, 7)] \"ㅕㅇ\" \"-hwa-reur bur-gga-yo?\"\n",
      "DEBUG:__main__:[('ㅁㅜ', 0, 3), ('ㅅㅡㄴ', 3, 7), ('ㅕㅇ', 7, 13)] \"\" \"hwa-reur bur-gga-yo?\"\n",
      "DEBUG:__main__:[('ㅁㅜ', 0, 3), ('ㅅㅡㄴ', 3, 7), ('ㅕㅇ', 7, 13)] \"ㅎ\" \"wa-reur bur-gga-yo?\"\n",
      "DEBUG:__main__:[('ㅁㅜ', 0, 3), ('ㅅㅡㄴ', 3, 7), ('ㅕㅇ', 7, 13)] \"ㅎㅘ\" \"-reur bur-gga-yo?\"\n",
      "DEBUG:__main__:[('ㅁㅜ', 0, 3), ('ㅅㅡㄴ', 3, 7), ('ㅕㅇ', 7, 13), ('ㅎㅘ', 13, 17)] \"\" \"reur bur-gga-yo?\"\n",
      "DEBUG:__main__:[('ㅁㅜ', 0, 3), ('ㅅㅡㄴ', 3, 7), ('ㅕㅇ', 7, 13), ('ㅎㅘ', 13, 17)] \"ㄹ\" \"eur bur-gga-yo?\"\n",
      "DEBUG:__main__:[('ㅁㅜ', 0, 3), ('ㅅㅡㄴ', 3, 7), ('ㅕㅇ', 7, 13), ('ㅎㅘ', 13, 17)] \"ㄹㅡ\" \"r bur-gga-yo?\"\n",
      "DEBUG:__main__:[('ㅁㅜ', 0, 3), ('ㅅㅡㄴ', 3, 7), ('ㅕㅇ', 7, 13), ('ㅎㅘ', 13, 17)] \"ㄹㅡㄹ\" \" bur-gga-yo?\"\n",
      "DEBUG:__main__:[('ㅁㅜ', 0, 3), ('ㅅㅡㄴ', 3, 7), ('ㅕㅇ', 7, 13), ('ㅎㅘ', 13, 17), ('ㄹㅡㄹ', 17, 21)] \"\" \"bur-gga-yo?\"\n",
      "DEBUG:__main__:[('ㅁㅜ', 0, 3), ('ㅅㅡㄴ', 3, 7), ('ㅕㅇ', 7, 13), ('ㅎㅘ', 13, 17), ('ㄹㅡㄹ', 17, 21)] \"ㅂ\" \"ur-gga-yo?\"\n",
      "DEBUG:__main__:[('ㅁㅜ', 0, 3), ('ㅅㅡㄴ', 3, 7), ('ㅕㅇ', 7, 13), ('ㅎㅘ', 13, 17), ('ㄹㅡㄹ', 17, 21)] \"ㅂㅜ\" \"r-gga-yo?\"\n",
      "DEBUG:__main__:[('ㅁㅜ', 0, 3), ('ㅅㅡㄴ', 3, 7), ('ㅕㅇ', 7, 13), ('ㅎㅘ', 13, 17), ('ㄹㅡㄹ', 17, 21)] \"ㅂㅜㄹ\" \"-gga-yo?\"\n",
      "DEBUG:__main__:[('ㅁㅜ', 0, 3), ('ㅅㅡㄴ', 3, 7), ('ㅕㅇ', 7, 13), ('ㅎㅘ', 13, 17), ('ㄹㅡㄹ', 17, 21), ('ㅂㅜㄹ', 21, 25)] \"\" \"gga-yo?\"\n",
      "DEBUG:__main__:[('ㅁㅜ', 0, 3), ('ㅅㅡㄴ', 3, 7), ('ㅕㅇ', 7, 13), ('ㅎㅘ', 13, 17), ('ㄹㅡㄹ', 17, 21), ('ㅂㅜㄹ', 21, 25)] \"ㄲ\" \"a-yo?\"\n",
      "DEBUG:__main__:[('ㅁㅜ', 0, 3), ('ㅅㅡㄴ', 3, 7), ('ㅕㅇ', 7, 13), ('ㅎㅘ', 13, 17), ('ㄹㅡㄹ', 17, 21), ('ㅂㅜㄹ', 21, 25)] \"ㄲㅏ\" \"-yo?\"\n",
      "DEBUG:__main__:[('ㅁㅜ', 0, 3), ('ㅅㅡㄴ', 3, 7), ('ㅕㅇ', 7, 13), ('ㅎㅘ', 13, 17), ('ㄹㅡㄹ', 17, 21), ('ㅂㅜㄹ', 21, 25), ('ㄲㅏ', 25, 29)] \"\" \"yo?\"\n",
      "DEBUG:__main__:[('ㅁㅜ', 0, 3), ('ㅅㅡㄴ', 3, 7), ('ㅕㅇ', 7, 13), ('ㅎㅘ', 13, 17), ('ㄹㅡㄹ', 17, 21), ('ㅂㅜㄹ', 21, 25), ('ㄲㅏ', 25, 29)] \"ㅛ\" \"?\"\n"
     ]
    },
    {
     "name": "stderr",
     "output_type": "stream",
     "text": [
      "DEBUG:__main__:[('ㅁㅜ', 0, 3), ('ㅅㅡㄴ', 3, 7), ('ㅕㅇ', 7, 13), ('ㅎㅘ', 13, 17), ('ㄹㅡㄹ', 17, 21), ('ㅂㅜㄹ', 21, 25), ('ㄲㅏ', 25, 29), ('ㅛ', 29, 31)] \"\" \"\"\n",
      "DEBUG:__main__:\"mu-seun yeong-hwa-reur bur-gga-yo?\" ㅛ 29:31\n",
      "DEBUG:__main__:\"\" \"ㅛ\"\n",
      "DEBUG:__main__:\"\" \"ㅇㅛ\"\n",
      "DEBUG:__main__:\"요\" \"\"\n",
      "DEBUG:__main__:\"mu-seun yeong-hwa-reur bur-gg요yo?\" ㄲㅏ 25:29\n",
      "DEBUG:__main__:\"\" \"ㄲㅏ\"\n",
      "DEBUG:__main__:\"까\" \"\"\n",
      "DEBUG:__main__:\"mu-seun yeong-hwa-reur bu까요yo?\" ㅂㅜㄹ 21:25\n",
      "DEBUG:__main__:\"\" \"ㅂㅜㄹ\"\n",
      "DEBUG:__main__:\"불\" \"\"\n",
      "DEBUG:__main__:\"mu-seun yeong-hwa-reu불까요yo?\" ㄹㅡㄹ 17:21\n",
      "DEBUG:__main__:\"\" \"ㄹㅡㄹ\"\n",
      "DEBUG:__main__:\"를\" \"\"\n",
      "DEBUG:__main__:\"mu-seun yeong-hwa를불까요yo?\" ㅎㅘ 13:17\n",
      "DEBUG:__main__:\"\" \"ㅎㅘ\"\n",
      "DEBUG:__main__:\"화\" \"\"\n",
      "DEBUG:__main__:\"mu-seun yeong화를불까요yo?\" ㅕㅇ 7:13\n",
      "DEBUG:__main__:\"\" \"ㅕㅇ\"\n",
      "DEBUG:__main__:\"\" \"ㅇㅕㅇ\"\n",
      "DEBUG:__main__:\"영\" \"\"\n",
      "DEBUG:__main__:\"mu-seun영화를불까요yo?\" ㅅㅡㄴ 3:7\n",
      "DEBUG:__main__:\"\" \"ㅅㅡㄴ\"\n",
      "DEBUG:__main__:\"슨\" \"\"\n",
      "DEBUG:__main__:\"mu-슨영화를불까요yo?\" ㅁㅜ 0:3\n",
      "DEBUG:__main__:\"\" \"ㅁㅜ\"\n",
      "DEBUG:__main__:\"무\" \"\"\n",
      "DEBUG:__main__:\"무슨영화를불까요yo?\"\n"
     ]
    },
    {
     "ename": "AssertionError",
     "evalue": "('museun yeonghwaleul bulkkayo?', 'museunyeonghwaleulbulkkayoyo?')",
     "output_type": "error",
     "traceback": [
      "\u001b[0;31m---------------------------------------------------------------------------\u001b[0m",
      "\u001b[0;31mAssertionError\u001b[0m                            Traceback (most recent call last)",
      "\u001b[0;32m<ipython-input-18-91235ef3f124>\u001b[0m in \u001b[0;36m<module>\u001b[0;34m()\u001b[0m\n\u001b[1;32m      4\u001b[0m     \u001b[0mexample\u001b[0m \u001b[0;34m=\u001b[0m \u001b[0mexample\u001b[0m\u001b[0;34m.\u001b[0m\u001b[0mreplace\u001b[0m\u001b[0;34m(\u001b[0m\u001b[0;34m'-'\u001b[0m\u001b[0;34m,\u001b[0m \u001b[0;34m''\u001b[0m\u001b[0;34m)\u001b[0m\u001b[0;34m.\u001b[0m\u001b[0mreplace\u001b[0m\u001b[0;34m(\u001b[0m\u001b[0;34m'r'\u001b[0m\u001b[0;34m,\u001b[0m \u001b[0;34m'l'\u001b[0m\u001b[0;34m)\u001b[0m\u001b[0;34m.\u001b[0m\u001b[0mreplace\u001b[0m\u001b[0;34m(\u001b[0m\u001b[0;34m'gg'\u001b[0m\u001b[0;34m,\u001b[0m \u001b[0;34m'kk'\u001b[0m\u001b[0;34m)\u001b[0m\u001b[0;34m.\u001b[0m\u001b[0mreplace\u001b[0m\u001b[0;34m(\u001b[0m\u001b[0;34m'bb'\u001b[0m\u001b[0;34m,\u001b[0m \u001b[0;34m'pp'\u001b[0m\u001b[0;34m)\u001b[0m\u001b[0;34m\u001b[0m\u001b[0m\n\u001b[1;32m      5\u001b[0m     \u001b[0mromanized\u001b[0m \u001b[0;34m=\u001b[0m \u001b[0mromanized\u001b[0m\u001b[0;34m.\u001b[0m\u001b[0mreplace\u001b[0m\u001b[0;34m(\u001b[0m\u001b[0;34m'-'\u001b[0m\u001b[0;34m,\u001b[0m \u001b[0;34m''\u001b[0m\u001b[0;34m)\u001b[0m\u001b[0;34m\u001b[0m\u001b[0m\n\u001b[0;32m----> 6\u001b[0;31m     \u001b[0;32massert\u001b[0m \u001b[0mexample\u001b[0m \u001b[0;34m==\u001b[0m \u001b[0mromanized\u001b[0m\u001b[0;34m,\u001b[0m \u001b[0;34m(\u001b[0m\u001b[0mexample\u001b[0m\u001b[0;34m,\u001b[0m \u001b[0mromanized\u001b[0m\u001b[0;34m)\u001b[0m\u001b[0;34m\u001b[0m\u001b[0m\n\u001b[0m",
      "\u001b[0;31mAssertionError\u001b[0m: ('museun yeonghwaleul bulkkayo?', 'museunyeonghwaleulbulkkayoyo?')"
     ]
    }
   ],
   "source": [
    "for example in examples:\n",
    "    hangul = to_hangul(example)\n",
    "    romanized = hangul_romanize.core.Transliter(hangul_romanize.rule.academic).translit(hangul)\n",
    "    example = example.replace('-', '').replace('r', 'l').replace('gg', 'kk').replace('bb', 'pp')\n",
    "    romanized = romanized.replace('-', '')\n",
    "    assert example == romanized, (example, romanized)"
   ]
  },
  {
   "cell_type": "code",
   "execution_count": 27,
   "metadata": {
    "scrolled": true
   },
   "outputs": [
    {
     "data": {
      "text/plain": [
       "(['ᄒ', 'ᅪ'], ['ᅪ'])"
      ]
     },
     "execution_count": 27,
     "metadata": {},
     "output_type": "execute_result"
    }
   ],
   "source": [
    "list(jamo.hangul_to_jamo('화')), list(jamo.hangul_to_jamo('ᅪ'))\n",
    "# , list(jamo.hcj_to_jamo('ㅗ', 'ㅏ'))"
   ]
  },
  {
   "cell_type": "code",
   "execution_count": 28,
   "metadata": {},
   "outputs": [
    {
     "data": {
      "text/plain": [
       "['화']"
      ]
     },
     "execution_count": 28,
     "metadata": {},
     "output_type": "execute_result"
    }
   ],
   "source": [
    "list(jamo.jamo_to_hangul('ㅎ', 'ᅪ'))"
   ]
  },
  {
   "cell_type": "code",
   "execution_count": 29,
   "metadata": {
    "scrolled": true
   },
   "outputs": [
    {
     "name": "stderr",
     "output_type": "stream",
     "text": [
      "Could not parse jamo: U+0\n"
     ]
    },
    {
     "ename": "InvalidJamoError",
     "evalue": "Could not synthesize characters to Hangul.",
     "output_type": "error",
     "traceback": [
      "\u001b[0;31m---------------------------------------------------------------------------\u001b[0m",
      "\u001b[0;31mInvalidJamoError\u001b[0m                          Traceback (most recent call last)",
      "\u001b[0;32m<ipython-input-29-d09866c5dbef>\u001b[0m in \u001b[0;36m<module>\u001b[0;34m()\u001b[0m\n\u001b[0;32m----> 1\u001b[0;31m \u001b[0mlist\u001b[0m\u001b[0;34m(\u001b[0m\u001b[0mjamo\u001b[0m\u001b[0;34m.\u001b[0m\u001b[0mjamo_to_hangul\u001b[0m\u001b[0;34m(\u001b[0m\u001b[0;34m'ㅎ'\u001b[0m\u001b[0;34m,\u001b[0m \u001b[0;34m'ㅗ'\u001b[0m\u001b[0;34m,\u001b[0m \u001b[0;34m'ㅏ'\u001b[0m\u001b[0;34m)\u001b[0m\u001b[0;34m)\u001b[0m\u001b[0;34m\u001b[0m\u001b[0m\n\u001b[0m\u001b[1;32m      2\u001b[0m \u001b[0;31m# is ᅪ below or to the right?\u001b[0m\u001b[0;34m\u001b[0m\u001b[0;34m\u001b[0m\u001b[0m\n\u001b[1;32m      3\u001b[0m \u001b[0;31m#'ㅎㅗㅏ', '화'\u001b[0m\u001b[0;34m\u001b[0m\u001b[0;34m\u001b[0m\u001b[0m\n",
      "\u001b[0;32m~/.pyenv/versions/3.6.6/lib/python3.6/site-packages/jamo/jamo.py\u001b[0m in \u001b[0;36mjamo_to_hangul\u001b[0;34m(lead, vowel, tail)\u001b[0m\n\u001b[1;32m    293\u001b[0m             \u001b[0;32mreturn\u001b[0m \u001b[0mresult\u001b[0m\u001b[0;34m\u001b[0m\u001b[0m\n\u001b[1;32m    294\u001b[0m     raise InvalidJamoError(\"Could not synthesize characters to Hangul.\",\n\u001b[0;32m--> 295\u001b[0;31m                            '\\x00')\n\u001b[0m\u001b[1;32m    296\u001b[0m \u001b[0;34m\u001b[0m\u001b[0m\n\u001b[1;32m    297\u001b[0m \u001b[0;34m\u001b[0m\u001b[0m\n",
      "\u001b[0;31mInvalidJamoError\u001b[0m: Could not synthesize characters to Hangul."
     ]
    }
   ],
   "source": [
    "list(jamo.jamo_to_hangul('ㅎ', 'ㅗ', 'ㅏ'))\n",
    "# is ᅪ below or to the right?\n",
    "#'ㅎㅗㅏ', '화'"
   ]
  },
  {
   "cell_type": "code",
   "execution_count": 24,
   "metadata": {},
   "outputs": [
    {
     "data": {
      "text/plain": [
       "['ᄄ', 'ᅳ', 'ᆪ']"
      ]
     },
     "execution_count": 24,
     "metadata": {},
     "output_type": "execute_result"
    }
   ],
   "source": [
    "list(jamo.hangul_to_jamo('뜫'))"
   ]
  },
  {
   "cell_type": "code",
   "execution_count": 21,
   "metadata": {
    "scrolled": true
   },
   "outputs": [
    {
     "data": {
      "text/plain": [
       "'화'"
      ]
     },
     "execution_count": 21,
     "metadata": {},
     "output_type": "execute_result"
    }
   ],
   "source": [
    "to_hangul('hwa')"
   ]
  },
  {
   "cell_type": "code",
   "execution_count": 22,
   "metadata": {
    "scrolled": false
   },
   "outputs": [
    {
     "data": {
      "text/plain": [
       "'호아'"
      ]
     },
     "execution_count": 22,
     "metadata": {},
     "output_type": "execute_result"
    }
   ],
   "source": [
    "to_hangul('hoa')"
   ]
  },
  {
   "cell_type": "code",
   "execution_count": 30,
   "metadata": {},
   "outputs": [
    {
     "data": {
      "text/plain": [
       "'뚦'"
      ]
     },
     "execution_count": 30,
     "metadata": {},
     "output_type": "execute_result"
    }
   ],
   "source": [
    "to_hangul('ddurm')"
   ]
  },
  {
   "cell_type": "markdown",
   "metadata": {},
   "source": [
    "testing out some packages"
   ]
  },
  {
   "cell_type": "code",
   "execution_count": 31,
   "metadata": {},
   "outputs": [
    {
     "data": {
      "text/plain": [
       "'salang'"
      ]
     },
     "execution_count": 31,
     "metadata": {},
     "output_type": "execute_result"
    }
   ],
   "source": [
    "import hangul_romanize\n",
    "import hangul_romanize.rule\n",
    "\n",
    "hangul_romanize.core.Transliter(hangul_romanize.rule.academic).translit('사랑')"
   ]
  },
  {
   "cell_type": "code",
   "execution_count": 12,
   "metadata": {},
   "outputs": [],
   "source": []
  },
  {
   "cell_type": "code",
   "execution_count": 13,
   "metadata": {},
   "outputs": [
    {
     "data": {
      "text/plain": [
       "'sa-rang'"
      ]
     },
     "execution_count": 13,
     "metadata": {},
     "output_type": "execute_result"
    }
   ],
   "source": [
    "kroman.parse('사랑')"
   ]
  },
  {
   "cell_type": "code",
   "execution_count": 15,
   "metadata": {},
   "outputs": [
    {
     "data": {
      "text/plain": [
       "'sal-ang'"
      ]
     },
     "execution_count": 15,
     "metadata": {},
     "output_type": "execute_result"
    }
   ],
   "source": [
    "kroman.parse('살앙')"
   ]
  },
  {
   "cell_type": "code",
   "execution_count": 7,
   "metadata": {},
   "outputs": [
    {
     "ename": "AttributeError",
     "evalue": "'str' object has no attribute 'decode'",
     "output_type": "error",
     "traceback": [
      "\u001b[0;31m---------------------------------------------------------------------------\u001b[0m",
      "\u001b[0;31mAttributeError\u001b[0m                            Traceback (most recent call last)",
      "\u001b[0;32m<ipython-input-7-4e9b852a8451>\u001b[0m in \u001b[0;36m<module>\u001b[0;34m()\u001b[0m\n\u001b[1;32m      2\u001b[0m \u001b[0;34m\u001b[0m\u001b[0m\n\u001b[1;32m      3\u001b[0m \u001b[0;31m#krt.hangulize()\u001b[0m\u001b[0;34m\u001b[0m\u001b[0;34m\u001b[0m\u001b[0m\n\u001b[0;32m----> 4\u001b[0;31m \u001b[0mkrt\u001b[0m\u001b[0;34m.\u001b[0m\u001b[0mromanize\u001b[0m\u001b[0;34m(\u001b[0m\u001b[0;34m'사랑'\u001b[0m\u001b[0;34m)\u001b[0m\u001b[0;34m\u001b[0m\u001b[0m\n\u001b[0m",
      "\u001b[0;32m~/.pyenv/versions/3.6.6/lib/python3.6/site-packages/krt.py\u001b[0m in \u001b[0;36mromanize\u001b[0;34m(raw, fromEnc, toEnc)\u001b[0m\n\u001b[1;32m    309\u001b[0m   \"\"\"\n\u001b[1;32m    310\u001b[0m   \u001b[0;32mif\u001b[0m \u001b[0mfromEnc\u001b[0m \u001b[0;34m!=\u001b[0m \u001b[0;32mNone\u001b[0m\u001b[0;34m:\u001b[0m\u001b[0;34m\u001b[0m\u001b[0m\n\u001b[0;32m--> 311\u001b[0;31m     \u001b[0mraw\u001b[0m \u001b[0;34m=\u001b[0m \u001b[0mraw\u001b[0m\u001b[0;34m.\u001b[0m\u001b[0mdecode\u001b[0m\u001b[0;34m(\u001b[0m\u001b[0mfromEnc\u001b[0m\u001b[0;34m)\u001b[0m\u001b[0;34m\u001b[0m\u001b[0m\n\u001b[0m\u001b[1;32m    312\u001b[0m   \u001b[0mnewString\u001b[0m \u001b[0;34m=\u001b[0m \u001b[0;34m''\u001b[0m\u001b[0;34m\u001b[0m\u001b[0m\n\u001b[1;32m    313\u001b[0m   \u001b[0;32mfor\u001b[0m \u001b[0mi\u001b[0m \u001b[0;32min\u001b[0m \u001b[0mrange\u001b[0m\u001b[0;34m(\u001b[0m\u001b[0mlen\u001b[0m\u001b[0;34m(\u001b[0m\u001b[0mraw\u001b[0m\u001b[0;34m)\u001b[0m\u001b[0;34m)\u001b[0m\u001b[0;34m:\u001b[0m\u001b[0;34m\u001b[0m\u001b[0m\n",
      "\u001b[0;31mAttributeError\u001b[0m: 'str' object has no attribute 'decode'"
     ]
    }
   ],
   "source": [
    "import krt\n",
    "\n",
    "krt.romanize('사랑')"
   ]
  },
  {
   "cell_type": "code",
   "execution_count": 9,
   "metadata": {},
   "outputs": [
    {
     "ename": "NameError",
     "evalue": "name 'unichr' is not defined",
     "output_type": "error",
     "traceback": [
      "\u001b[0;31m---------------------------------------------------------------------------\u001b[0m",
      "\u001b[0;31mNameError\u001b[0m                                 Traceback (most recent call last)",
      "\u001b[0;32m<ipython-input-9-ef68a0d21703>\u001b[0m in \u001b[0;36m<module>\u001b[0;34m()\u001b[0m\n\u001b[0;32m----> 1\u001b[0;31m \u001b[0mkrt\u001b[0m\u001b[0;34m.\u001b[0m\u001b[0mhangulize\u001b[0m\u001b[0;34m(\u001b[0m\u001b[0;34m'salang'\u001b[0m\u001b[0;34m,\u001b[0m \u001b[0;34m'utf-8'\u001b[0m\u001b[0;34m)\u001b[0m\u001b[0;34m\u001b[0m\u001b[0m\n\u001b[0m",
      "\u001b[0;32m~/.pyenv/versions/3.6.6/lib/python3.6/site-packages/krt.py\u001b[0m in \u001b[0;36mhangulize\u001b[0;34m(text, toEncoding)\u001b[0m\n\u001b[1;32m    148\u001b[0m           \u001b[0msyllable\u001b[0m\u001b[0;34m[\u001b[0m\u001b[0;34m'final'\u001b[0m\u001b[0;34m]\u001b[0m \u001b[0;34m=\u001b[0m \u001b[0msyllable\u001b[0m\u001b[0;34m[\u001b[0m\u001b[0;34m'final'\u001b[0m\u001b[0;34m]\u001b[0m \u001b[0;34m+\u001b[0m \u001b[0mchar\u001b[0m\u001b[0;34m\u001b[0m\u001b[0m\n\u001b[1;32m    149\u001b[0m         \u001b[0;32melse\u001b[0m\u001b[0;34m:\u001b[0m\u001b[0;34m\u001b[0m\u001b[0m\n\u001b[0;32m--> 150\u001b[0;31m           \u001b[0mhangul\u001b[0m \u001b[0;34m+=\u001b[0m \u001b[0mhangulize_syllable\u001b[0m\u001b[0;34m(\u001b[0m\u001b[0msyllable\u001b[0m\u001b[0;34m)\u001b[0m\u001b[0;34m\u001b[0m\u001b[0m\n\u001b[0m\u001b[1;32m    151\u001b[0m           \u001b[0msyllable\u001b[0m \u001b[0;34m=\u001b[0m \u001b[0;34m{\u001b[0m\u001b[0;34m}\u001b[0m\u001b[0;34m\u001b[0m\u001b[0m\n\u001b[1;32m    152\u001b[0m           \u001b[0;32mif\u001b[0m \u001b[0mchar\u001b[0m \u001b[0;32min\u001b[0m \u001b[0mvowelLetters\u001b[0m\u001b[0;34m:\u001b[0m\u001b[0;34m\u001b[0m\u001b[0m\n",
      "\u001b[0;32m~/.pyenv/versions/3.6.6/lib/python3.6/site-packages/krt.py\u001b[0m in \u001b[0;36mhangulize_syllable\u001b[0;34m(syl)\u001b[0m\n\u001b[1;32m    297\u001b[0m     \u001b[0;32mif\u001b[0m \u001b[0mfIndex\u001b[0m \u001b[0;34m!=\u001b[0m \u001b[0;32mNone\u001b[0m\u001b[0;34m:\u001b[0m\u001b[0;34m\u001b[0m\u001b[0m\n\u001b[1;32m    298\u001b[0m       \u001b[0mtotal\u001b[0m \u001b[0;34m+=\u001b[0m \u001b[0mfIndex\u001b[0m\u001b[0;34m\u001b[0m\u001b[0m\n\u001b[0;32m--> 299\u001b[0;31m     \u001b[0;32mreturn\u001b[0m \u001b[0munichr\u001b[0m\u001b[0;34m(\u001b[0m\u001b[0mtotal\u001b[0m\u001b[0;34m)\u001b[0m\u001b[0;34m\u001b[0m\u001b[0m\n\u001b[0m\u001b[1;32m    300\u001b[0m   \u001b[0;32mreturn\u001b[0m\u001b[0;34m\u001b[0m\u001b[0m\n\u001b[1;32m    301\u001b[0m \u001b[0;34m\u001b[0m\u001b[0m\n",
      "\u001b[0;31mNameError\u001b[0m: name 'unichr' is not defined"
     ]
    }
   ],
   "source": [
    "krt.hangulize('salang', 'utf-8')"
   ]
  },
  {
   "cell_type": "code",
   "execution_count": 36,
   "metadata": {},
   "outputs": [
    {
     "name": "stderr",
     "output_type": "stream",
     "text": [
      "DEBUG:deromanize_hangul:[] \"\" \"world\"\n",
      "DEBUG:deromanize_hangul:[] \"ㅝ\" \"rld\"\n",
      "DEBUG:deromanize_hangul:[] \"ㅝㄹ\" \"ld\"\n",
      "DEBUG:deromanize_hangul:[] \"ㅝㄹㄹ\" \"d\"\n",
      "DEBUG:deromanize_hangul:[] \"ㅝㄹㄹㄷ\" \"\"\n",
      "DEBUG:deromanize_hangul:[('ㅝㄹㄹㄷ', 0, 7)] \"\" \"\"\n"
     ]
    },
    {
     "data": {
      "text/plain": [
       "[('ㅝㄹㄹㄷ', 0, 7)]"
      ]
     },
     "execution_count": 36,
     "metadata": {},
     "output_type": "execute_result"
    }
   ],
   "source": [
    "to_jamo_groups('world')"
   ]
  },
  {
   "cell_type": "code",
   "execution_count": null,
   "metadata": {},
   "outputs": [],
   "source": []
  }
 ],
 "metadata": {
  "kernelspec": {
   "display_name": "Python 3",
   "language": "python",
   "name": "python3"
  },
  "language_info": {
   "codemirror_mode": {
    "name": "ipython",
    "version": 3
   },
   "file_extension": ".py",
   "mimetype": "text/x-python",
   "name": "python",
   "nbconvert_exporter": "python",
   "pygments_lexer": "ipython3",
   "version": "3.6.6"
  }
 },
 "nbformat": 4,
 "nbformat_minor": 2
}
